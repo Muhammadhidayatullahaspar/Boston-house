{
  "cells": [
    {
      "cell_type": "markdown",
      "id": "38b233eb",
      "metadata": {
        "id": "38b233eb"
      },
      "source": [
        "## Import Package"
      ]
    },
    {
      "cell_type": "code",
      "execution_count": null,
      "id": "a9cd28bf",
      "metadata": {
        "id": "a9cd28bf"
      },
      "outputs": [],
      "source": [
        "import warnings\n",
        "warnings.filterwarnings('ignore')\n",
        "\n",
        "#importing libraries\n",
        "import numpy as np\n",
        "import pandas as pd\n",
        "import matplotlib.pyplot as plt\n",
        "import seaborn as sns\n",
        "import statsmodels.api as sm\n",
        "from scipy.stats import pearsonr\n",
        "from sklearn.model_selection import train_test_split as tts\n",
        "from sklearn.linear_model import LinearRegression as lr\n",
        "from sklearn.preprocessing import PolynomialFeatures\n",
        "from sklearn.svm import SVR\n",
        "from sklearn.ensemble import RandomForestRegressor\n",
        "from sklearn.neighbors import KNeighborsRegressor\n",
        "from sklearn.model_selection import cross_val_score as cvs"
      ]
    },
    {
      "cell_type": "markdown",
      "id": "4de7df6b",
      "metadata": {
        "id": "4de7df6b"
      },
      "source": [
        "## Load Dataset"
      ]
    },
    {
      "cell_type": "code",
      "execution_count": null,
      "id": "045226aa",
      "metadata": {
        "id": "045226aa",
        "outputId": "6170f073-dcd5-498f-8c82-4a9b1de7b3e3",
        "colab": {
          "base_uri": "https://localhost:8080/",
          "height": 206
        }
      },
      "outputs": [
        {
          "output_type": "execute_result",
          "data": {
            "text/plain": [
              "      CRIM    ZN  INDUS  CHAS    NOX     RM   AGE     DIS  RAD    TAX  \\\n",
              "0  0.00632  18.0   2.31   0.0  0.538  6.575  65.2  4.0900  1.0  296.0   \n",
              "1  0.02731   0.0   7.07   0.0  0.469  6.421  78.9  4.9671  2.0  242.0   \n",
              "2  0.02729   0.0   7.07   0.0  0.469  7.185  61.1  4.9671  2.0  242.0   \n",
              "3  0.03237   0.0   2.18   0.0  0.458  6.998  45.8  6.0622  3.0  222.0   \n",
              "4  0.06905   0.0   2.18   0.0  0.458  7.147  54.2  6.0622  3.0  222.0   \n",
              "\n",
              "   PTRATIO       B  LSTAT  MEDV  \n",
              "0     15.3  396.90   4.98  24.0  \n",
              "1     17.8  396.90   9.14  21.6  \n",
              "2     17.8  392.83   4.03  34.7  \n",
              "3     18.7  394.63   2.94  33.4  \n",
              "4     18.7  396.90   5.33  36.2  "
            ],
            "text/html": [
              "\n",
              "  <div id=\"df-34e83261-9149-4dd4-accf-d57694dc7e16\">\n",
              "    <div class=\"colab-df-container\">\n",
              "      <div>\n",
              "<style scoped>\n",
              "    .dataframe tbody tr th:only-of-type {\n",
              "        vertical-align: middle;\n",
              "    }\n",
              "\n",
              "    .dataframe tbody tr th {\n",
              "        vertical-align: top;\n",
              "    }\n",
              "\n",
              "    .dataframe thead th {\n",
              "        text-align: right;\n",
              "    }\n",
              "</style>\n",
              "<table border=\"1\" class=\"dataframe\">\n",
              "  <thead>\n",
              "    <tr style=\"text-align: right;\">\n",
              "      <th></th>\n",
              "      <th>CRIM</th>\n",
              "      <th>ZN</th>\n",
              "      <th>INDUS</th>\n",
              "      <th>CHAS</th>\n",
              "      <th>NOX</th>\n",
              "      <th>RM</th>\n",
              "      <th>AGE</th>\n",
              "      <th>DIS</th>\n",
              "      <th>RAD</th>\n",
              "      <th>TAX</th>\n",
              "      <th>PTRATIO</th>\n",
              "      <th>B</th>\n",
              "      <th>LSTAT</th>\n",
              "      <th>MEDV</th>\n",
              "    </tr>\n",
              "  </thead>\n",
              "  <tbody>\n",
              "    <tr>\n",
              "      <th>0</th>\n",
              "      <td>0.00632</td>\n",
              "      <td>18.0</td>\n",
              "      <td>2.31</td>\n",
              "      <td>0.0</td>\n",
              "      <td>0.538</td>\n",
              "      <td>6.575</td>\n",
              "      <td>65.2</td>\n",
              "      <td>4.0900</td>\n",
              "      <td>1.0</td>\n",
              "      <td>296.0</td>\n",
              "      <td>15.3</td>\n",
              "      <td>396.90</td>\n",
              "      <td>4.98</td>\n",
              "      <td>24.0</td>\n",
              "    </tr>\n",
              "    <tr>\n",
              "      <th>1</th>\n",
              "      <td>0.02731</td>\n",
              "      <td>0.0</td>\n",
              "      <td>7.07</td>\n",
              "      <td>0.0</td>\n",
              "      <td>0.469</td>\n",
              "      <td>6.421</td>\n",
              "      <td>78.9</td>\n",
              "      <td>4.9671</td>\n",
              "      <td>2.0</td>\n",
              "      <td>242.0</td>\n",
              "      <td>17.8</td>\n",
              "      <td>396.90</td>\n",
              "      <td>9.14</td>\n",
              "      <td>21.6</td>\n",
              "    </tr>\n",
              "    <tr>\n",
              "      <th>2</th>\n",
              "      <td>0.02729</td>\n",
              "      <td>0.0</td>\n",
              "      <td>7.07</td>\n",
              "      <td>0.0</td>\n",
              "      <td>0.469</td>\n",
              "      <td>7.185</td>\n",
              "      <td>61.1</td>\n",
              "      <td>4.9671</td>\n",
              "      <td>2.0</td>\n",
              "      <td>242.0</td>\n",
              "      <td>17.8</td>\n",
              "      <td>392.83</td>\n",
              "      <td>4.03</td>\n",
              "      <td>34.7</td>\n",
              "    </tr>\n",
              "    <tr>\n",
              "      <th>3</th>\n",
              "      <td>0.03237</td>\n",
              "      <td>0.0</td>\n",
              "      <td>2.18</td>\n",
              "      <td>0.0</td>\n",
              "      <td>0.458</td>\n",
              "      <td>6.998</td>\n",
              "      <td>45.8</td>\n",
              "      <td>6.0622</td>\n",
              "      <td>3.0</td>\n",
              "      <td>222.0</td>\n",
              "      <td>18.7</td>\n",
              "      <td>394.63</td>\n",
              "      <td>2.94</td>\n",
              "      <td>33.4</td>\n",
              "    </tr>\n",
              "    <tr>\n",
              "      <th>4</th>\n",
              "      <td>0.06905</td>\n",
              "      <td>0.0</td>\n",
              "      <td>2.18</td>\n",
              "      <td>0.0</td>\n",
              "      <td>0.458</td>\n",
              "      <td>7.147</td>\n",
              "      <td>54.2</td>\n",
              "      <td>6.0622</td>\n",
              "      <td>3.0</td>\n",
              "      <td>222.0</td>\n",
              "      <td>18.7</td>\n",
              "      <td>396.90</td>\n",
              "      <td>5.33</td>\n",
              "      <td>36.2</td>\n",
              "    </tr>\n",
              "  </tbody>\n",
              "</table>\n",
              "</div>\n",
              "      <button class=\"colab-df-convert\" onclick=\"convertToInteractive('df-34e83261-9149-4dd4-accf-d57694dc7e16')\"\n",
              "              title=\"Convert this dataframe to an interactive table.\"\n",
              "              style=\"display:none;\">\n",
              "        \n",
              "  <svg xmlns=\"http://www.w3.org/2000/svg\" height=\"24px\"viewBox=\"0 0 24 24\"\n",
              "       width=\"24px\">\n",
              "    <path d=\"M0 0h24v24H0V0z\" fill=\"none\"/>\n",
              "    <path d=\"M18.56 5.44l.94 2.06.94-2.06 2.06-.94-2.06-.94-.94-2.06-.94 2.06-2.06.94zm-11 1L8.5 8.5l.94-2.06 2.06-.94-2.06-.94L8.5 2.5l-.94 2.06-2.06.94zm10 10l.94 2.06.94-2.06 2.06-.94-2.06-.94-.94-2.06-.94 2.06-2.06.94z\"/><path d=\"M17.41 7.96l-1.37-1.37c-.4-.4-.92-.59-1.43-.59-.52 0-1.04.2-1.43.59L10.3 9.45l-7.72 7.72c-.78.78-.78 2.05 0 2.83L4 21.41c.39.39.9.59 1.41.59.51 0 1.02-.2 1.41-.59l7.78-7.78 2.81-2.81c.8-.78.8-2.07 0-2.86zM5.41 20L4 18.59l7.72-7.72 1.47 1.35L5.41 20z\"/>\n",
              "  </svg>\n",
              "      </button>\n",
              "      \n",
              "  <style>\n",
              "    .colab-df-container {\n",
              "      display:flex;\n",
              "      flex-wrap:wrap;\n",
              "      gap: 12px;\n",
              "    }\n",
              "\n",
              "    .colab-df-convert {\n",
              "      background-color: #E8F0FE;\n",
              "      border: none;\n",
              "      border-radius: 50%;\n",
              "      cursor: pointer;\n",
              "      display: none;\n",
              "      fill: #1967D2;\n",
              "      height: 32px;\n",
              "      padding: 0 0 0 0;\n",
              "      width: 32px;\n",
              "    }\n",
              "\n",
              "    .colab-df-convert:hover {\n",
              "      background-color: #E2EBFA;\n",
              "      box-shadow: 0px 1px 2px rgba(60, 64, 67, 0.3), 0px 1px 3px 1px rgba(60, 64, 67, 0.15);\n",
              "      fill: #174EA6;\n",
              "    }\n",
              "\n",
              "    [theme=dark] .colab-df-convert {\n",
              "      background-color: #3B4455;\n",
              "      fill: #D2E3FC;\n",
              "    }\n",
              "\n",
              "    [theme=dark] .colab-df-convert:hover {\n",
              "      background-color: #434B5C;\n",
              "      box-shadow: 0px 1px 3px 1px rgba(0, 0, 0, 0.15);\n",
              "      filter: drop-shadow(0px 1px 2px rgba(0, 0, 0, 0.3));\n",
              "      fill: #FFFFFF;\n",
              "    }\n",
              "  </style>\n",
              "\n",
              "      <script>\n",
              "        const buttonEl =\n",
              "          document.querySelector('#df-34e83261-9149-4dd4-accf-d57694dc7e16 button.colab-df-convert');\n",
              "        buttonEl.style.display =\n",
              "          google.colab.kernel.accessAllowed ? 'block' : 'none';\n",
              "\n",
              "        async function convertToInteractive(key) {\n",
              "          const element = document.querySelector('#df-34e83261-9149-4dd4-accf-d57694dc7e16');\n",
              "          const dataTable =\n",
              "            await google.colab.kernel.invokeFunction('convertToInteractive',\n",
              "                                                     [key], {});\n",
              "          if (!dataTable) return;\n",
              "\n",
              "          const docLinkHtml = 'Like what you see? Visit the ' +\n",
              "            '<a target=\"_blank\" href=https://colab.research.google.com/notebooks/data_table.ipynb>data table notebook</a>'\n",
              "            + ' to learn more about interactive tables.';\n",
              "          element.innerHTML = '';\n",
              "          dataTable['output_type'] = 'display_data';\n",
              "          await google.colab.output.renderOutput(dataTable, element);\n",
              "          const docLink = document.createElement('div');\n",
              "          docLink.innerHTML = docLinkHtml;\n",
              "          element.appendChild(docLink);\n",
              "        }\n",
              "      </script>\n",
              "    </div>\n",
              "  </div>\n",
              "  "
            ]
          },
          "metadata": {},
          "execution_count": 590
        }
      ],
      "source": [
        "from sklearn.datasets import load_boston\n",
        "boston_dataset = load_boston()\n",
        "boston = pd.DataFrame(boston_dataset.data, columns=boston_dataset.feature_names)\n",
        "boston['MEDV'] = boston_dataset.target\n",
        "boston.head()"
      ]
    },
    {
      "cell_type": "code",
      "source": [
        "boston.shape"
      ],
      "metadata": {
        "colab": {
          "base_uri": "https://localhost:8080/"
        },
        "id": "92WzQ4WsQ-H9",
        "outputId": "aed053ca-7fb7-4a5c-a26a-3a28590bcc5d"
      },
      "id": "92WzQ4WsQ-H9",
      "execution_count": null,
      "outputs": [
        {
          "output_type": "execute_result",
          "data": {
            "text/plain": [
              "(506, 14)"
            ]
          },
          "metadata": {},
          "execution_count": 591
        }
      ]
    },
    {
      "cell_type": "code",
      "source": [
        "boston.describe()"
      ],
      "metadata": {
        "colab": {
          "base_uri": "https://localhost:8080/",
          "height": 300
        },
        "id": "I45ze0WKROrB",
        "outputId": "cfcb59b9-751d-4615-8306-34567da5a921"
      },
      "id": "I45ze0WKROrB",
      "execution_count": null,
      "outputs": [
        {
          "output_type": "execute_result",
          "data": {
            "text/plain": [
              "             CRIM          ZN       INDUS        CHAS         NOX          RM  \\\n",
              "count  506.000000  506.000000  506.000000  506.000000  506.000000  506.000000   \n",
              "mean     3.613524   11.363636   11.136779    0.069170    0.554695    6.284634   \n",
              "std      8.601545   23.322453    6.860353    0.253994    0.115878    0.702617   \n",
              "min      0.006320    0.000000    0.460000    0.000000    0.385000    3.561000   \n",
              "25%      0.082045    0.000000    5.190000    0.000000    0.449000    5.885500   \n",
              "50%      0.256510    0.000000    9.690000    0.000000    0.538000    6.208500   \n",
              "75%      3.677083   12.500000   18.100000    0.000000    0.624000    6.623500   \n",
              "max     88.976200  100.000000   27.740000    1.000000    0.871000    8.780000   \n",
              "\n",
              "              AGE         DIS         RAD         TAX     PTRATIO           B  \\\n",
              "count  506.000000  506.000000  506.000000  506.000000  506.000000  506.000000   \n",
              "mean    68.574901    3.795043    9.549407  408.237154   18.455534  356.674032   \n",
              "std     28.148861    2.105710    8.707259  168.537116    2.164946   91.294864   \n",
              "min      2.900000    1.129600    1.000000  187.000000   12.600000    0.320000   \n",
              "25%     45.025000    2.100175    4.000000  279.000000   17.400000  375.377500   \n",
              "50%     77.500000    3.207450    5.000000  330.000000   19.050000  391.440000   \n",
              "75%     94.075000    5.188425   24.000000  666.000000   20.200000  396.225000   \n",
              "max    100.000000   12.126500   24.000000  711.000000   22.000000  396.900000   \n",
              "\n",
              "            LSTAT        MEDV  \n",
              "count  506.000000  506.000000  \n",
              "mean    12.653063   22.532806  \n",
              "std      7.141062    9.197104  \n",
              "min      1.730000    5.000000  \n",
              "25%      6.950000   17.025000  \n",
              "50%     11.360000   21.200000  \n",
              "75%     16.955000   25.000000  \n",
              "max     37.970000   50.000000  "
            ],
            "text/html": [
              "\n",
              "  <div id=\"df-5e10d7a4-aa55-4c51-a00b-710fd59fd6fd\">\n",
              "    <div class=\"colab-df-container\">\n",
              "      <div>\n",
              "<style scoped>\n",
              "    .dataframe tbody tr th:only-of-type {\n",
              "        vertical-align: middle;\n",
              "    }\n",
              "\n",
              "    .dataframe tbody tr th {\n",
              "        vertical-align: top;\n",
              "    }\n",
              "\n",
              "    .dataframe thead th {\n",
              "        text-align: right;\n",
              "    }\n",
              "</style>\n",
              "<table border=\"1\" class=\"dataframe\">\n",
              "  <thead>\n",
              "    <tr style=\"text-align: right;\">\n",
              "      <th></th>\n",
              "      <th>CRIM</th>\n",
              "      <th>ZN</th>\n",
              "      <th>INDUS</th>\n",
              "      <th>CHAS</th>\n",
              "      <th>NOX</th>\n",
              "      <th>RM</th>\n",
              "      <th>AGE</th>\n",
              "      <th>DIS</th>\n",
              "      <th>RAD</th>\n",
              "      <th>TAX</th>\n",
              "      <th>PTRATIO</th>\n",
              "      <th>B</th>\n",
              "      <th>LSTAT</th>\n",
              "      <th>MEDV</th>\n",
              "    </tr>\n",
              "  </thead>\n",
              "  <tbody>\n",
              "    <tr>\n",
              "      <th>count</th>\n",
              "      <td>506.000000</td>\n",
              "      <td>506.000000</td>\n",
              "      <td>506.000000</td>\n",
              "      <td>506.000000</td>\n",
              "      <td>506.000000</td>\n",
              "      <td>506.000000</td>\n",
              "      <td>506.000000</td>\n",
              "      <td>506.000000</td>\n",
              "      <td>506.000000</td>\n",
              "      <td>506.000000</td>\n",
              "      <td>506.000000</td>\n",
              "      <td>506.000000</td>\n",
              "      <td>506.000000</td>\n",
              "      <td>506.000000</td>\n",
              "    </tr>\n",
              "    <tr>\n",
              "      <th>mean</th>\n",
              "      <td>3.613524</td>\n",
              "      <td>11.363636</td>\n",
              "      <td>11.136779</td>\n",
              "      <td>0.069170</td>\n",
              "      <td>0.554695</td>\n",
              "      <td>6.284634</td>\n",
              "      <td>68.574901</td>\n",
              "      <td>3.795043</td>\n",
              "      <td>9.549407</td>\n",
              "      <td>408.237154</td>\n",
              "      <td>18.455534</td>\n",
              "      <td>356.674032</td>\n",
              "      <td>12.653063</td>\n",
              "      <td>22.532806</td>\n",
              "    </tr>\n",
              "    <tr>\n",
              "      <th>std</th>\n",
              "      <td>8.601545</td>\n",
              "      <td>23.322453</td>\n",
              "      <td>6.860353</td>\n",
              "      <td>0.253994</td>\n",
              "      <td>0.115878</td>\n",
              "      <td>0.702617</td>\n",
              "      <td>28.148861</td>\n",
              "      <td>2.105710</td>\n",
              "      <td>8.707259</td>\n",
              "      <td>168.537116</td>\n",
              "      <td>2.164946</td>\n",
              "      <td>91.294864</td>\n",
              "      <td>7.141062</td>\n",
              "      <td>9.197104</td>\n",
              "    </tr>\n",
              "    <tr>\n",
              "      <th>min</th>\n",
              "      <td>0.006320</td>\n",
              "      <td>0.000000</td>\n",
              "      <td>0.460000</td>\n",
              "      <td>0.000000</td>\n",
              "      <td>0.385000</td>\n",
              "      <td>3.561000</td>\n",
              "      <td>2.900000</td>\n",
              "      <td>1.129600</td>\n",
              "      <td>1.000000</td>\n",
              "      <td>187.000000</td>\n",
              "      <td>12.600000</td>\n",
              "      <td>0.320000</td>\n",
              "      <td>1.730000</td>\n",
              "      <td>5.000000</td>\n",
              "    </tr>\n",
              "    <tr>\n",
              "      <th>25%</th>\n",
              "      <td>0.082045</td>\n",
              "      <td>0.000000</td>\n",
              "      <td>5.190000</td>\n",
              "      <td>0.000000</td>\n",
              "      <td>0.449000</td>\n",
              "      <td>5.885500</td>\n",
              "      <td>45.025000</td>\n",
              "      <td>2.100175</td>\n",
              "      <td>4.000000</td>\n",
              "      <td>279.000000</td>\n",
              "      <td>17.400000</td>\n",
              "      <td>375.377500</td>\n",
              "      <td>6.950000</td>\n",
              "      <td>17.025000</td>\n",
              "    </tr>\n",
              "    <tr>\n",
              "      <th>50%</th>\n",
              "      <td>0.256510</td>\n",
              "      <td>0.000000</td>\n",
              "      <td>9.690000</td>\n",
              "      <td>0.000000</td>\n",
              "      <td>0.538000</td>\n",
              "      <td>6.208500</td>\n",
              "      <td>77.500000</td>\n",
              "      <td>3.207450</td>\n",
              "      <td>5.000000</td>\n",
              "      <td>330.000000</td>\n",
              "      <td>19.050000</td>\n",
              "      <td>391.440000</td>\n",
              "      <td>11.360000</td>\n",
              "      <td>21.200000</td>\n",
              "    </tr>\n",
              "    <tr>\n",
              "      <th>75%</th>\n",
              "      <td>3.677083</td>\n",
              "      <td>12.500000</td>\n",
              "      <td>18.100000</td>\n",
              "      <td>0.000000</td>\n",
              "      <td>0.624000</td>\n",
              "      <td>6.623500</td>\n",
              "      <td>94.075000</td>\n",
              "      <td>5.188425</td>\n",
              "      <td>24.000000</td>\n",
              "      <td>666.000000</td>\n",
              "      <td>20.200000</td>\n",
              "      <td>396.225000</td>\n",
              "      <td>16.955000</td>\n",
              "      <td>25.000000</td>\n",
              "    </tr>\n",
              "    <tr>\n",
              "      <th>max</th>\n",
              "      <td>88.976200</td>\n",
              "      <td>100.000000</td>\n",
              "      <td>27.740000</td>\n",
              "      <td>1.000000</td>\n",
              "      <td>0.871000</td>\n",
              "      <td>8.780000</td>\n",
              "      <td>100.000000</td>\n",
              "      <td>12.126500</td>\n",
              "      <td>24.000000</td>\n",
              "      <td>711.000000</td>\n",
              "      <td>22.000000</td>\n",
              "      <td>396.900000</td>\n",
              "      <td>37.970000</td>\n",
              "      <td>50.000000</td>\n",
              "    </tr>\n",
              "  </tbody>\n",
              "</table>\n",
              "</div>\n",
              "      <button class=\"colab-df-convert\" onclick=\"convertToInteractive('df-5e10d7a4-aa55-4c51-a00b-710fd59fd6fd')\"\n",
              "              title=\"Convert this dataframe to an interactive table.\"\n",
              "              style=\"display:none;\">\n",
              "        \n",
              "  <svg xmlns=\"http://www.w3.org/2000/svg\" height=\"24px\"viewBox=\"0 0 24 24\"\n",
              "       width=\"24px\">\n",
              "    <path d=\"M0 0h24v24H0V0z\" fill=\"none\"/>\n",
              "    <path d=\"M18.56 5.44l.94 2.06.94-2.06 2.06-.94-2.06-.94-.94-2.06-.94 2.06-2.06.94zm-11 1L8.5 8.5l.94-2.06 2.06-.94-2.06-.94L8.5 2.5l-.94 2.06-2.06.94zm10 10l.94 2.06.94-2.06 2.06-.94-2.06-.94-.94-2.06-.94 2.06-2.06.94z\"/><path d=\"M17.41 7.96l-1.37-1.37c-.4-.4-.92-.59-1.43-.59-.52 0-1.04.2-1.43.59L10.3 9.45l-7.72 7.72c-.78.78-.78 2.05 0 2.83L4 21.41c.39.39.9.59 1.41.59.51 0 1.02-.2 1.41-.59l7.78-7.78 2.81-2.81c.8-.78.8-2.07 0-2.86zM5.41 20L4 18.59l7.72-7.72 1.47 1.35L5.41 20z\"/>\n",
              "  </svg>\n",
              "      </button>\n",
              "      \n",
              "  <style>\n",
              "    .colab-df-container {\n",
              "      display:flex;\n",
              "      flex-wrap:wrap;\n",
              "      gap: 12px;\n",
              "    }\n",
              "\n",
              "    .colab-df-convert {\n",
              "      background-color: #E8F0FE;\n",
              "      border: none;\n",
              "      border-radius: 50%;\n",
              "      cursor: pointer;\n",
              "      display: none;\n",
              "      fill: #1967D2;\n",
              "      height: 32px;\n",
              "      padding: 0 0 0 0;\n",
              "      width: 32px;\n",
              "    }\n",
              "\n",
              "    .colab-df-convert:hover {\n",
              "      background-color: #E2EBFA;\n",
              "      box-shadow: 0px 1px 2px rgba(60, 64, 67, 0.3), 0px 1px 3px 1px rgba(60, 64, 67, 0.15);\n",
              "      fill: #174EA6;\n",
              "    }\n",
              "\n",
              "    [theme=dark] .colab-df-convert {\n",
              "      background-color: #3B4455;\n",
              "      fill: #D2E3FC;\n",
              "    }\n",
              "\n",
              "    [theme=dark] .colab-df-convert:hover {\n",
              "      background-color: #434B5C;\n",
              "      box-shadow: 0px 1px 3px 1px rgba(0, 0, 0, 0.15);\n",
              "      filter: drop-shadow(0px 1px 2px rgba(0, 0, 0, 0.3));\n",
              "      fill: #FFFFFF;\n",
              "    }\n",
              "  </style>\n",
              "\n",
              "      <script>\n",
              "        const buttonEl =\n",
              "          document.querySelector('#df-5e10d7a4-aa55-4c51-a00b-710fd59fd6fd button.colab-df-convert');\n",
              "        buttonEl.style.display =\n",
              "          google.colab.kernel.accessAllowed ? 'block' : 'none';\n",
              "\n",
              "        async function convertToInteractive(key) {\n",
              "          const element = document.querySelector('#df-5e10d7a4-aa55-4c51-a00b-710fd59fd6fd');\n",
              "          const dataTable =\n",
              "            await google.colab.kernel.invokeFunction('convertToInteractive',\n",
              "                                                     [key], {});\n",
              "          if (!dataTable) return;\n",
              "\n",
              "          const docLinkHtml = 'Like what you see? Visit the ' +\n",
              "            '<a target=\"_blank\" href=https://colab.research.google.com/notebooks/data_table.ipynb>data table notebook</a>'\n",
              "            + ' to learn more about interactive tables.';\n",
              "          element.innerHTML = '';\n",
              "          dataTable['output_type'] = 'display_data';\n",
              "          await google.colab.output.renderOutput(dataTable, element);\n",
              "          const docLink = document.createElement('div');\n",
              "          docLink.innerHTML = docLinkHtml;\n",
              "          element.appendChild(docLink);\n",
              "        }\n",
              "      </script>\n",
              "    </div>\n",
              "  </div>\n",
              "  "
            ]
          },
          "metadata": {},
          "execution_count": 592
        }
      ]
    },
    {
      "cell_type": "markdown",
      "id": "f4ce0f96",
      "metadata": {
        "id": "f4ce0f96"
      },
      "source": [
        "## Data Preprocessing (20 point)"
      ]
    },
    {
      "cell_type": "markdown",
      "id": "ae8297e9",
      "metadata": {
        "id": "ae8297e9"
      },
      "source": [
        "1. lakukan data preprocessing  kecuali melakukan reduksi dimensi"
      ]
    },
    {
      "cell_type": "code",
      "source": [
        "boston = boston.drop(['ZN', 'CHAS'], axis=1)"
      ],
      "metadata": {
        "id": "NVpQp7qhSWyl"
      },
      "id": "NVpQp7qhSWyl",
      "execution_count": null,
      "outputs": []
    },
    {
      "cell_type": "code",
      "source": [
        "boston.isnull().sum()"
      ],
      "metadata": {
        "colab": {
          "base_uri": "https://localhost:8080/"
        },
        "id": "2eG6QQ6PSeqz",
        "outputId": "38fcb452-b253-4017-f6aa-139664adc382"
      },
      "id": "2eG6QQ6PSeqz",
      "execution_count": null,
      "outputs": [
        {
          "output_type": "execute_result",
          "data": {
            "text/plain": [
              "CRIM       0\n",
              "INDUS      0\n",
              "NOX        0\n",
              "RM         0\n",
              "AGE        0\n",
              "DIS        0\n",
              "RAD        0\n",
              "TAX        0\n",
              "PTRATIO    0\n",
              "B          0\n",
              "LSTAT      0\n",
              "MEDV       0\n",
              "dtype: int64"
            ]
          },
          "metadata": {},
          "execution_count": 594
        }
      ]
    },
    {
      "cell_type": "code",
      "source": [
        "#check outlier\n",
        "fig, ax = plt.subplots(ncols=6, nrows=2, figsize=(15, 5))\n",
        "ax = ax.flatten()\n",
        "index = 0\n",
        "for i in boston.columns:\n",
        "  sns.boxplot(y=i, data=boston, ax=ax[index])\n",
        "  index +=1\n",
        "plt.tight_layout(pad=0.4)\n",
        "plt.show()"
      ],
      "metadata": {
        "colab": {
          "base_uri": "https://localhost:8080/",
          "height": 383
        },
        "id": "lXHbGTx3Snse",
        "outputId": "2507e8df-c0ef-4918-fe94-2714bd5ae8d7"
      },
      "id": "lXHbGTx3Snse",
      "execution_count": null,
      "outputs": [
        {
          "output_type": "display_data",
          "data": {
            "text/plain": [
              "<Figure size 1080x360 with 12 Axes>"
            ],
            "image/png": "[encoded data removed]"
          },
          "metadata": {
            "needs_background": "light"
          }
        }
      ]
    },
    {
      "cell_type": "markdown",
      "source": [
        "Columns CRIM, RM, DIS, PTRATIO, B, LSTAT and MEDV have outliers"
      ],
      "metadata": {
        "id": "wUXz3CLETAtS"
      },
      "id": "wUXz3CLETAtS"
    },
    {
      "cell_type": "code",
      "source": [
        "#check percent outlier\n",
        "for i in boston.columns:\n",
        "  boston.sort_values(by=i, ascending=True, na_position='last')\n",
        "  q1, q3 = np.nanpercentile(boston[i], [25,75])\n",
        "  iqr = q3-q1\n",
        "  lower_bound = q1-(1.5*iqr)\n",
        "  upper_bound = q3+(1.5*iqr)\n",
        "  outlier_data = boston[i][(boston[i] < lower_bound) | (boston[i] > upper_bound)] #creating a series of outlier data\n",
        "  perc = (outlier_data.count()/boston[i].count())*100\n",
        "  print('Outliers in %s is %.2f%% with count %.f' %(i, perc, outlier_data.count()))\n",
        "  #----------------------code below is for comming sections----------------------\n",
        "  if i == 'B':\n",
        "    outlierDataB_index = outlier_data.index\n",
        "    outlierDataB_LB = boston[i][(boston[i] < lower_bound)]\n",
        "    outlierDataB_UB = boston[i][(boston[i] > upper_bound)]\n",
        "  elif i == 'CRIM':\n",
        "    outlierDataCRIM_index = outlier_data.index\n",
        "    outlierDataCRIM_LB = boston[i][(boston[i] < lower_bound)]\n",
        "    outlierDataCRIM_UB = boston[i][(boston[i] > upper_bound)]\n",
        "  elif i == 'MEDV':\n",
        "    lowerBoundMEDV = lower_bound\n",
        "    upperBoundMEDV = upper_bound"
      ],
      "metadata": {
        "colab": {
          "base_uri": "https://localhost:8080/"
        },
        "id": "mhJIE_fWTCwT",
        "outputId": "3305fc2b-68e0-4caa-aae9-7a5587f48b0f"
      },
      "id": "mhJIE_fWTCwT",
      "execution_count": null,
      "outputs": [
        {
          "output_type": "stream",
          "name": "stdout",
          "text": [
            "Outliers in CRIM is 13.04% with count 66\n",
            "Outliers in INDUS is 0.00% with count 0\n",
            "Outliers in NOX is 0.00% with count 0\n",
            "Outliers in RM is 5.93% with count 30\n",
            "Outliers in AGE is 0.00% with count 0\n",
            "Outliers in DIS is 0.99% with count 5\n",
            "Outliers in RAD is 0.00% with count 0\n",
            "Outliers in TAX is 0.00% with count 0\n",
            "Outliers in PTRATIO is 2.96% with count 15\n",
            "Outliers in B is 15.22% with count 77\n",
            "Outliers in LSTAT is 1.38% with count 7\n",
            "Outliers in MEDV is 7.91% with count 40\n"
          ]
        }
      ]
    },
    {
      "cell_type": "code",
      "source": [
        "boston2 = boston.copy()"
      ],
      "metadata": {
        "id": "qba7d3ETe4vh"
      },
      "id": "qba7d3ETe4vh",
      "execution_count": null,
      "outputs": []
    },
    {
      "cell_type": "code",
      "source": [
        "#removing extreme outliers form B and CRIM (removing those observations)\n",
        "removed=[]\n",
        "outlierDataB_LB.sort_values(ascending=True, inplace=True)\n",
        "outlierDataB_UB.sort_values(ascending=False, inplace=True)\n",
        "counter=1\n",
        "for i in outlierDataB_LB.index:\n",
        "  if counter<=19:\n",
        "    boston2.drop(index=i, inplace=True)\n",
        "    counter+=1\n",
        "    removed.append(i)\n",
        "for i in outlierDataB_UB.index:\n",
        "  if counter<=38:\n",
        "    boston2.drop(index=i, inplace=True)\n",
        "    counter+=1\n",
        "    removed.append(i)\n",
        "for i in outlierDataB_LB.index:\n",
        "  if counter<=38 and i not in removed:\n",
        "    boston2.drop(index=i, inplace=True)\n",
        "    counter+=1\n",
        "    removed.append(i)\n",
        "\n",
        "\n",
        "outlierDataCRIM_LB.sort_values(ascending=True, inplace=True)\n",
        "outlierDataCRIM_UB.sort_values(ascending=False, inplace=True)\n",
        "counter=1\n",
        "for i in outlierDataCRIM_LB.index:\n",
        "  if counter<=16 and i not in removed:\n",
        "    boston2.drop(index=i, inplace=True)\n",
        "    counter+=1\n",
        "    removed.append(i)\n",
        "for i in outlierDataCRIM_UB.index:\n",
        "  if counter<=33 and i not in removed:\n",
        "    boston2.drop(index=i, inplace=True)\n",
        "    counter+=1\n",
        "    removed.append(i)\n",
        "for i in outlierDataCRIM_LB.index:\n",
        "  if counter<=33 and i not in removed:\n",
        "    boston2.drop(index=i, inplace=True)\n",
        "    counter+=1\n",
        "    removed.append(i)\n",
        "\n",
        "boston2.shape\n"
      ],
      "metadata": {
        "colab": {
          "base_uri": "https://localhost:8080/"
        },
        "id": "GmEptd4hchI4",
        "outputId": "9631e725-b2ab-425e-9a99-b5043a5fdc63"
      },
      "id": "GmEptd4hchI4",
      "execution_count": null,
      "outputs": [
        {
          "output_type": "execute_result",
          "data": {
            "text/plain": [
              "(435, 12)"
            ]
          },
          "metadata": {},
          "execution_count": 598
        }
      ]
    },
    {
      "cell_type": "code",
      "source": [
        "boston3 = boston2.copy()"
      ],
      "metadata": {
        "id": "_sKnje1GfhD5"
      },
      "id": "_sKnje1GfhD5",
      "execution_count": null,
      "outputs": []
    },
    {
      "cell_type": "code",
      "source": [
        "#replacing remaning outliers by mean\n",
        "for i in boston.columns:\n",
        "  boston.sort_values(by=i, ascending=True, na_position='last')\n",
        "  q1, q3 = np.nanpercentile(boston[i], [25,75])\n",
        "  iqr = q3-q1\n",
        "  lower_bound = q1-(1.5*iqr)\n",
        "  upper_bound = q3+(1.5*iqr)\n",
        "  mean = boston3[i].mean()\n",
        "  if i != 'MEDV':\n",
        "    boston3.loc[boston3[i] < lower_bound, [i]] = mean\n",
        "    boston3.loc[boston3[i] > upper_bound, [i]] = mean\n",
        "  else:\n",
        "    boston3.loc[boston3[i] < lower_bound, [i]] = mean\n",
        "    boston3.loc[boston3[i] > upper_bound, [i]] = 50"
      ],
      "metadata": {
        "id": "fUVMhcGufnef"
      },
      "id": "fUVMhcGufnef",
      "execution_count": null,
      "outputs": []
    },
    {
      "cell_type": "code",
      "source": [
        "boston3.describe()"
      ],
      "metadata": {
        "colab": {
          "base_uri": "https://localhost:8080/",
          "height": 300
        },
        "id": "6d19lSKAf-F2",
        "outputId": "99e1e2dc-089a-4e2e-d206-f0cc8bca3a36"
      },
      "id": "6d19lSKAf-F2",
      "execution_count": null,
      "outputs": [
        {
          "output_type": "execute_result",
          "data": {
            "text/plain": [
              "             CRIM       INDUS         NOX          RM         AGE         DIS  \\\n",
              "count  435.000000  435.000000  435.000000  435.000000  435.000000  435.000000   \n",
              "mean     1.054293   10.008575    0.534257    6.266477   64.741609    4.038049   \n",
              "std      1.936962    6.741091    0.108957    0.511640   28.319794    1.960932   \n",
              "min      0.006320    0.460000    0.385000    4.903000    2.900000    1.129600   \n",
              "25%      0.068740    4.860000    0.445000    5.926500   40.050000    2.404500   \n",
              "50%      0.173310    8.140000    0.515000    6.230000   70.200000    3.665000   \n",
              "75%      0.846290   18.100000    0.585000    6.550500   91.550000    5.400900   \n",
              "max      8.982960   27.740000    0.871000    7.691000  100.000000    9.222900   \n",
              "\n",
              "              RAD         TAX     PTRATIO           B       LSTAT        MEDV  \n",
              "count  435.000000  435.000000  435.000000  435.000000  435.000000  435.000000  \n",
              "mean     7.409195  369.232184   18.402521  388.243160   11.128671   24.502299  \n",
              "std      7.185681  146.359443    1.945860   10.759893    5.973657    9.616602  \n",
              "min      1.000000  187.000000   13.600000  344.910000    1.730000    6.300000  \n",
              "25%      4.000000  276.000000   17.400000  382.557563    6.545000   18.900000  \n",
              "50%      5.000000  307.000000   18.600000  392.520000    9.970000   22.200000  \n",
              "75%      6.000000  403.000000   20.200000  396.260000   14.655000   27.100000  \n",
              "max     24.000000  711.000000   22.000000  396.900000   30.810000   50.000000  "
            ],
            "text/html": [
              "\n",
              "  <div id=\"df-22fc50db-29a1-424d-a160-8d84bbd73f68\">\n",
              "    <div class=\"colab-df-container\">\n",
              "      <div>\n",
              "<style scoped>\n",
              "    .dataframe tbody tr th:only-of-type {\n",
              "        vertical-align: middle;\n",
              "    }\n",
              "\n",
              "    .dataframe tbody tr th {\n",
              "        vertical-align: top;\n",
              "    }\n",
              "\n",
              "    .dataframe thead th {\n",
              "        text-align: right;\n",
              "    }\n",
              "</style>\n",
              "<table border=\"1\" class=\"dataframe\">\n",
              "  <thead>\n",
              "    <tr style=\"text-align: right;\">\n",
              "      <th></th>\n",
              "      <th>CRIM</th>\n",
              "      <th>INDUS</th>\n",
              "      <th>NOX</th>\n",
              "      <th>RM</th>\n",
              "      <th>AGE</th>\n",
              "      <th>DIS</th>\n",
              "      <th>RAD</th>\n",
              "      <th>TAX</th>\n",
              "      <th>PTRATIO</th>\n",
              "      <th>B</th>\n",
              "      <th>LSTAT</th>\n",
              "      <th>MEDV</th>\n",
              "    </tr>\n",
              "  </thead>\n",
              "  <tbody>\n",
              "    <tr>\n",
              "      <th>count</th>\n",
              "      <td>435.000000</td>\n",
              "      <td>435.000000</td>\n",
              "      <td>435.000000</td>\n",
              "      <td>435.000000</td>\n",
              "      <td>435.000000</td>\n",
              "      <td>435.000000</td>\n",
              "      <td>435.000000</td>\n",
              "      <td>435.000000</td>\n",
              "      <td>435.000000</td>\n",
              "      <td>435.000000</td>\n",
              "      <td>435.000000</td>\n",
              "      <td>435.000000</td>\n",
              "    </tr>\n",
              "    <tr>\n",
              "      <th>mean</th>\n",
              "      <td>1.054293</td>\n",
              "      <td>10.008575</td>\n",
              "      <td>0.534257</td>\n",
              "      <td>6.266477</td>\n",
              "      <td>64.741609</td>\n",
              "      <td>4.038049</td>\n",
              "      <td>7.409195</td>\n",
              "      <td>369.232184</td>\n",
              "      <td>18.402521</td>\n",
              "      <td>388.243160</td>\n",
              "      <td>11.128671</td>\n",
              "      <td>24.502299</td>\n",
              "    </tr>\n",
              "    <tr>\n",
              "      <th>std</th>\n",
              "      <td>1.936962</td>\n",
              "      <td>6.741091</td>\n",
              "      <td>0.108957</td>\n",
              "      <td>0.511640</td>\n",
              "      <td>28.319794</td>\n",
              "      <td>1.960932</td>\n",
              "      <td>7.185681</td>\n",
              "      <td>146.359443</td>\n",
              "      <td>1.945860</td>\n",
              "      <td>10.759893</td>\n",
              "      <td>5.973657</td>\n",
              "      <td>9.616602</td>\n",
              "    </tr>\n",
              "    <tr>\n",
              "      <th>min</th>\n",
              "      <td>0.006320</td>\n",
              "      <td>0.460000</td>\n",
              "      <td>0.385000</td>\n",
              "      <td>4.903000</td>\n",
              "      <td>2.900000</td>\n",
              "      <td>1.129600</td>\n",
              "      <td>1.000000</td>\n",
              "      <td>187.000000</td>\n",
              "      <td>13.600000</td>\n",
              "      <td>344.910000</td>\n",
              "      <td>1.730000</td>\n",
              "      <td>6.300000</td>\n",
              "    </tr>\n",
              "    <tr>\n",
              "      <th>25%</th>\n",
              "      <td>0.068740</td>\n",
              "      <td>4.860000</td>\n",
              "      <td>0.445000</td>\n",
              "      <td>5.926500</td>\n",
              "      <td>40.050000</td>\n",
              "      <td>2.404500</td>\n",
              "      <td>4.000000</td>\n",
              "      <td>276.000000</td>\n",
              "      <td>17.400000</td>\n",
              "      <td>382.557563</td>\n",
              "      <td>6.545000</td>\n",
              "      <td>18.900000</td>\n",
              "    </tr>\n",
              "    <tr>\n",
              "      <th>50%</th>\n",
              "      <td>0.173310</td>\n",
              "      <td>8.140000</td>\n",
              "      <td>0.515000</td>\n",
              "      <td>6.230000</td>\n",
              "      <td>70.200000</td>\n",
              "      <td>3.665000</td>\n",
              "      <td>5.000000</td>\n",
              "      <td>307.000000</td>\n",
              "      <td>18.600000</td>\n",
              "      <td>392.520000</td>\n",
              "      <td>9.970000</td>\n",
              "      <td>22.200000</td>\n",
              "    </tr>\n",
              "    <tr>\n",
              "      <th>75%</th>\n",
              "      <td>0.846290</td>\n",
              "      <td>18.100000</td>\n",
              "      <td>0.585000</td>\n",
              "      <td>6.550500</td>\n",
              "      <td>91.550000</td>\n",
              "      <td>5.400900</td>\n",
              "      <td>6.000000</td>\n",
              "      <td>403.000000</td>\n",
              "      <td>20.200000</td>\n",
              "      <td>396.260000</td>\n",
              "      <td>14.655000</td>\n",
              "      <td>27.100000</td>\n",
              "    </tr>\n",
              "    <tr>\n",
              "      <th>max</th>\n",
              "      <td>8.982960</td>\n",
              "      <td>27.740000</td>\n",
              "      <td>0.871000</td>\n",
              "      <td>7.691000</td>\n",
              "      <td>100.000000</td>\n",
              "      <td>9.222900</td>\n",
              "      <td>24.000000</td>\n",
              "      <td>711.000000</td>\n",
              "      <td>22.000000</td>\n",
              "      <td>396.900000</td>\n",
              "      <td>30.810000</td>\n",
              "      <td>50.000000</td>\n",
              "    </tr>\n",
              "  </tbody>\n",
              "</table>\n",
              "</div>\n",
              "      <button class=\"colab-df-convert\" onclick=\"convertToInteractive('df-22fc50db-29a1-424d-a160-8d84bbd73f68')\"\n",
              "              title=\"Convert this dataframe to an interactive table.\"\n",
              "              style=\"display:none;\">\n",
              "        \n",
              "  <svg xmlns=\"http://www.w3.org/2000/svg\" height=\"24px\"viewBox=\"0 0 24 24\"\n",
              "       width=\"24px\">\n",
              "    <path d=\"M0 0h24v24H0V0z\" fill=\"none\"/>\n",
              "    <path d=\"M18.56 5.44l.94 2.06.94-2.06 2.06-.94-2.06-.94-.94-2.06-.94 2.06-2.06.94zm-11 1L8.5 8.5l.94-2.06 2.06-.94-2.06-.94L8.5 2.5l-.94 2.06-2.06.94zm10 10l.94 2.06.94-2.06 2.06-.94-2.06-.94-.94-2.06-.94 2.06-2.06.94z\"/><path d=\"M17.41 7.96l-1.37-1.37c-.4-.4-.92-.59-1.43-.59-.52 0-1.04.2-1.43.59L10.3 9.45l-7.72 7.72c-.78.78-.78 2.05 0 2.83L4 21.41c.39.39.9.59 1.41.59.51 0 1.02-.2 1.41-.59l7.78-7.78 2.81-2.81c.8-.78.8-2.07 0-2.86zM5.41 20L4 18.59l7.72-7.72 1.47 1.35L5.41 20z\"/>\n",
              "  </svg>\n",
              "      </button>\n",
              "      \n",
              "  <style>\n",
              "    .colab-df-container {\n",
              "      display:flex;\n",
              "      flex-wrap:wrap;\n",
              "      gap: 12px;\n",
              "    }\n",
              "\n",
              "    .colab-df-convert {\n",
              "      background-color: #E8F0FE;\n",
              "      border: none;\n",
              "      border-radius: 50%;\n",
              "      cursor: pointer;\n",
              "      display: none;\n",
              "      fill: #1967D2;\n",
              "      height: 32px;\n",
              "      padding: 0 0 0 0;\n",
              "      width: 32px;\n",
              "    }\n",
              "\n",
              "    .colab-df-convert:hover {\n",
              "      background-color: #E2EBFA;\n",
              "      box-shadow: 0px 1px 2px rgba(60, 64, 67, 0.3), 0px 1px 3px 1px rgba(60, 64, 67, 0.15);\n",
              "      fill: #174EA6;\n",
              "    }\n",
              "\n",
              "    [theme=dark] .colab-df-convert {\n",
              "      background-color: #3B4455;\n",
              "      fill: #D2E3FC;\n",
              "    }\n",
              "\n",
              "    [theme=dark] .colab-df-convert:hover {\n",
              "      background-color: #434B5C;\n",
              "      box-shadow: 0px 1px 3px 1px rgba(0, 0, 0, 0.15);\n",
              "      filter: drop-shadow(0px 1px 2px rgba(0, 0, 0, 0.3));\n",
              "      fill: #FFFFFF;\n",
              "    }\n",
              "  </style>\n",
              "\n",
              "      <script>\n",
              "        const buttonEl =\n",
              "          document.querySelector('#df-22fc50db-29a1-424d-a160-8d84bbd73f68 button.colab-df-convert');\n",
              "        buttonEl.style.display =\n",
              "          google.colab.kernel.accessAllowed ? 'block' : 'none';\n",
              "\n",
              "        async function convertToInteractive(key) {\n",
              "          const element = document.querySelector('#df-22fc50db-29a1-424d-a160-8d84bbd73f68');\n",
              "          const dataTable =\n",
              "            await google.colab.kernel.invokeFunction('convertToInteractive',\n",
              "                                                     [key], {});\n",
              "          if (!dataTable) return;\n",
              "\n",
              "          const docLinkHtml = 'Like what you see? Visit the ' +\n",
              "            '<a target=\"_blank\" href=https://colab.research.google.com/notebooks/data_table.ipynb>data table notebook</a>'\n",
              "            + ' to learn more about interactive tables.';\n",
              "          element.innerHTML = '';\n",
              "          dataTable['output_type'] = 'display_data';\n",
              "          await google.colab.output.renderOutput(dataTable, element);\n",
              "          const docLink = document.createElement('div');\n",
              "          docLink.innerHTML = docLinkHtml;\n",
              "          element.appendChild(docLink);\n",
              "        }\n",
              "      </script>\n",
              "    </div>\n",
              "  </div>\n",
              "  "
            ]
          },
          "metadata": {},
          "execution_count": 601
        }
      ]
    },
    {
      "cell_type": "markdown",
      "source": [
        "Using p-Value to to select the optimal features:\n",
        "\n",
        "Dropping all the variables whose p-value is less than significance level of 0.05 using backward elimination method"
      ],
      "metadata": {
        "id": "LyUHu21shKFg"
      },
      "id": "LyUHu21shKFg"
    },
    {
      "cell_type": "code",
      "source": [
        "X = boston3.iloc[:, :-1]\n",
        "Y = boston3.iloc[:, 11]"
      ],
      "metadata": {
        "id": "Porsu9XxhIaK"
      },
      "id": "Porsu9XxhIaK",
      "execution_count": null,
      "outputs": []
    },
    {
      "cell_type": "code",
      "source": [
        "#Feature selection using P-Value/ Backward elimination\n",
        "def BackwardElimination(sl, w):\n",
        "    for i in range(0, len(w.columns)):\n",
        "        regressor_OLS = sm.OLS(endog=Y, exog=w).fit()\n",
        "        max_pvalue = max(regressor_OLS.pvalues)\n",
        "        pvalues = regressor_OLS.pvalues\n",
        "        if max_pvalue > SL:\n",
        "            index_max_pvalue = pvalues[pvalues==max_pvalue].index\n",
        "            w = w.drop(index_max_pvalue, axis = 1) #delete the valriable for that p value\n",
        "    return w,pvalues,index_max_pvalue\n",
        "\n",
        "SL = 0.05\n",
        "ones = np.ones((435,1))  #adding a columns of ones to X as it is required by statsmodels library\n",
        "W = X\n",
        "W.insert(0, 'Constant', ones, True)\n",
        "W_optimal = W.iloc[:, [0,1,2,3,4,5,6,7,8,9,10,11]]\n",
        "\n",
        "W_optimal,pvalues,index_max_pvalue = BackwardElimination(SL, W_optimal)\n",
        "X = W_optimal.drop('Constant', axis=1)"
      ],
      "metadata": {
        "id": "vBWrWSnuhgXx"
      },
      "id": "vBWrWSnuhgXx",
      "execution_count": null,
      "outputs": []
    },
    {
      "cell_type": "code",
      "source": [
        "#remaning variabls after backward elimination\n",
        "X.columns"
      ],
      "metadata": {
        "colab": {
          "base_uri": "https://localhost:8080/"
        },
        "id": "I9nPN3wMh-PV",
        "outputId": "eabb1517-8e74-4f5c-97be-f6c4e2fd080c"
      },
      "id": "I9nPN3wMh-PV",
      "execution_count": null,
      "outputs": [
        {
          "output_type": "execute_result",
          "data": {
            "text/plain": [
              "Index(['NOX', 'RM', 'DIS', 'RAD', 'TAX', 'PTRATIO', 'LSTAT'], dtype='object')"
            ]
          },
          "metadata": {},
          "execution_count": 604
        }
      ]
    },
    {
      "cell_type": "markdown",
      "source": [
        "Using pearson correlation to remove any highly correlated independent variables to avoid multicollinearity :"
      ],
      "metadata": {
        "id": "6ghHEiZSiCcH"
      },
      "id": "6ghHEiZSiCcH"
    },
    {
      "cell_type": "code",
      "source": [
        "#Ploting heatmap using pearson correlation among independent variables\n",
        "plt.figure(figsize=(8, 8))\n",
        "ax = sns.heatmap(X.corr(method='pearson').abs(), annot=True, square=True)\n",
        "plt.show()"
      ],
      "metadata": {
        "colab": {
          "base_uri": "https://localhost:8080/",
          "height": 470
        },
        "id": "5En0rX08iDTb",
        "outputId": "1e684329-1ac8-4dbf-92fa-0301486ec620"
      },
      "id": "5En0rX08iDTb",
      "execution_count": null,
      "outputs": [
        {
          "output_type": "display_data",
          "data": {
            "text/plain": [
              "<Figure size 576x576 with 2 Axes>"
            ],
            "image/png": "[encoded data removed]"
          },
          "metadata": {
            "needs_background": "light"
          }
        }
      ]
    },
    {
      "cell_type": "markdown",
      "source": [
        "From above correlation heatmap we can see that:\n",
        "\n",
        "1. TAX and RAD are highly correlated with score 0.86. As per my personal understandig RAD (index of accessibility to radial highways) will be more important in predicting MEDV as commpared to TAX (full-value property-tax rate per $10,000), so I am considering to drop TAX\n",
        "2. DIS and NOX are highly correlated with score 0.75. As per my personal understandig DIS (weighted distances to five Boston employment centres) will be more important in predicting MEDV as commpared to NOX (nitric oxides concentration (parts per 10 million)), so I am considering to drop NOX"
      ],
      "metadata": {
        "id": "CbTU4hIsoap2"
      },
      "id": "CbTU4hIsoap2"
    },
    {
      "cell_type": "code",
      "source": [
        "#dropping TAX and NOX\n",
        "X.drop('TAX', axis=1, inplace=True)\n",
        "X.drop('NOX', axis=1, inplace=True)\n",
        "\n",
        "#remaning columns after removing multicollinearity\n",
        "X.columns"
      ],
      "metadata": {
        "colab": {
          "base_uri": "https://localhost:8080/"
        },
        "id": "MgtC3jyVokvI",
        "outputId": "ac6451eb-34d8-4d8a-f22f-f5dc2defdf5f"
      },
      "id": "MgtC3jyVokvI",
      "execution_count": null,
      "outputs": [
        {
          "output_type": "execute_result",
          "data": {
            "text/plain": [
              "Index(['RM', 'DIS', 'RAD', 'PTRATIO', 'LSTAT'], dtype='object')"
            ]
          },
          "metadata": {},
          "execution_count": 606
        }
      ]
    },
    {
      "cell_type": "code",
      "source": [
        "from sklearn.preprocessing import StandardScaler\n",
        "\n",
        "scaler = StandardScaler()\n",
        "scaler.fit(X)\n",
        "X_std = scaler.transform(X)"
      ],
      "metadata": {
        "id": "vT7ziXUVtZHs"
      },
      "id": "vT7ziXUVtZHs",
      "execution_count": null,
      "outputs": []
    },
    {
      "cell_type": "markdown",
      "id": "0a1ed707",
      "metadata": {
        "id": "0a1ed707"
      },
      "source": [
        "### PCA Prosess (40)"
      ]
    },
    {
      "cell_type": "markdown",
      "id": "2e8b2197",
      "metadata": {
        "id": "2e8b2197"
      },
      "source": [
        "1. lakukan data preprocessing termasuk melakukan reduksi dimensi dengan PCA (analisis berapa penggunaan PC yang tepat)"
      ]
    },
    {
      "cell_type": "code",
      "source": [
        "from sklearn.decomposition import PCA\n",
        "\n",
        "pca = PCA(n_components=5)\n",
        "pca.fit(X_std)\n",
        "pcs = pca.transform(X_std)\n",
        "\n",
        "pdf = pd.DataFrame(data = pcs, columns = ['pc1', 'pc2', 'pc3', 'pc4','pc5'])\n",
        "pdf.head()"
      ],
      "metadata": {
        "colab": {
          "base_uri": "https://localhost:8080/",
          "height": 206
        },
        "id": "3gRDdqKZrp8j",
        "outputId": "cd40597a-de12-4506-f113-aa814c7a7621"
      },
      "id": "3gRDdqKZrp8j",
      "execution_count": null,
      "outputs": [
        {
          "output_type": "execute_result",
          "data": {
            "text/plain": [
              "        pc1       pc2       pc3       pc4       pc5\n",
              "0 -1.824015 -0.326055  1.118474  0.187857  0.229931\n",
              "1 -0.951140 -0.325566 -0.128301  0.214062 -0.136455\n",
              "2 -2.055335  0.908823  0.037788  0.530676 -0.448770\n",
              "3 -2.006324  0.876261 -0.707314  0.302049 -0.128178\n",
              "4 -1.917035  0.912328 -0.657468  0.264469 -0.610128"
            ],
            "text/html": [
              "\n",
              "  <div id=\"df-7aab9350-3ccf-40c8-ba69-56f476d9bfaf\">\n",
              "    <div class=\"colab-df-container\">\n",
              "      <div>\n",
              "<style scoped>\n",
              "    .dataframe tbody tr th:only-of-type {\n",
              "        vertical-align: middle;\n",
              "    }\n",
              "\n",
              "    .dataframe tbody tr th {\n",
              "        vertical-align: top;\n",
              "    }\n",
              "\n",
              "    .dataframe thead th {\n",
              "        text-align: right;\n",
              "    }\n",
              "</style>\n",
              "<table border=\"1\" class=\"dataframe\">\n",
              "  <thead>\n",
              "    <tr style=\"text-align: right;\">\n",
              "      <th></th>\n",
              "      <th>pc1</th>\n",
              "      <th>pc2</th>\n",
              "      <th>pc3</th>\n",
              "      <th>pc4</th>\n",
              "      <th>pc5</th>\n",
              "    </tr>\n",
              "  </thead>\n",
              "  <tbody>\n",
              "    <tr>\n",
              "      <th>0</th>\n",
              "      <td>-1.824015</td>\n",
              "      <td>-0.326055</td>\n",
              "      <td>1.118474</td>\n",
              "      <td>0.187857</td>\n",
              "      <td>0.229931</td>\n",
              "    </tr>\n",
              "    <tr>\n",
              "      <th>1</th>\n",
              "      <td>-0.951140</td>\n",
              "      <td>-0.325566</td>\n",
              "      <td>-0.128301</td>\n",
              "      <td>0.214062</td>\n",
              "      <td>-0.136455</td>\n",
              "    </tr>\n",
              "    <tr>\n",
              "      <th>2</th>\n",
              "      <td>-2.055335</td>\n",
              "      <td>0.908823</td>\n",
              "      <td>0.037788</td>\n",
              "      <td>0.530676</td>\n",
              "      <td>-0.448770</td>\n",
              "    </tr>\n",
              "    <tr>\n",
              "      <th>3</th>\n",
              "      <td>-2.006324</td>\n",
              "      <td>0.876261</td>\n",
              "      <td>-0.707314</td>\n",
              "      <td>0.302049</td>\n",
              "      <td>-0.128178</td>\n",
              "    </tr>\n",
              "    <tr>\n",
              "      <th>4</th>\n",
              "      <td>-1.917035</td>\n",
              "      <td>0.912328</td>\n",
              "      <td>-0.657468</td>\n",
              "      <td>0.264469</td>\n",
              "      <td>-0.610128</td>\n",
              "    </tr>\n",
              "  </tbody>\n",
              "</table>\n",
              "</div>\n",
              "      <button class=\"colab-df-convert\" onclick=\"convertToInteractive('df-7aab9350-3ccf-40c8-ba69-56f476d9bfaf')\"\n",
              "              title=\"Convert this dataframe to an interactive table.\"\n",
              "              style=\"display:none;\">\n",
              "        \n",
              "  <svg xmlns=\"http://www.w3.org/2000/svg\" height=\"24px\"viewBox=\"0 0 24 24\"\n",
              "       width=\"24px\">\n",
              "    <path d=\"M0 0h24v24H0V0z\" fill=\"none\"/>\n",
              "    <path d=\"M18.56 5.44l.94 2.06.94-2.06 2.06-.94-2.06-.94-.94-2.06-.94 2.06-2.06.94zm-11 1L8.5 8.5l.94-2.06 2.06-.94-2.06-.94L8.5 2.5l-.94 2.06-2.06.94zm10 10l.94 2.06.94-2.06 2.06-.94-2.06-.94-.94-2.06-.94 2.06-2.06.94z\"/><path d=\"M17.41 7.96l-1.37-1.37c-.4-.4-.92-.59-1.43-.59-.52 0-1.04.2-1.43.59L10.3 9.45l-7.72 7.72c-.78.78-.78 2.05 0 2.83L4 21.41c.39.39.9.59 1.41.59.51 0 1.02-.2 1.41-.59l7.78-7.78 2.81-2.81c.8-.78.8-2.07 0-2.86zM5.41 20L4 18.59l7.72-7.72 1.47 1.35L5.41 20z\"/>\n",
              "  </svg>\n",
              "      </button>\n",
              "      \n",
              "  <style>\n",
              "    .colab-df-container {\n",
              "      display:flex;\n",
              "      flex-wrap:wrap;\n",
              "      gap: 12px;\n",
              "    }\n",
              "\n",
              "    .colab-df-convert {\n",
              "      background-color: #E8F0FE;\n",
              "      border: none;\n",
              "      border-radius: 50%;\n",
              "      cursor: pointer;\n",
              "      display: none;\n",
              "      fill: #1967D2;\n",
              "      height: 32px;\n",
              "      padding: 0 0 0 0;\n",
              "      width: 32px;\n",
              "    }\n",
              "\n",
              "    .colab-df-convert:hover {\n",
              "      background-color: #E2EBFA;\n",
              "      box-shadow: 0px 1px 2px rgba(60, 64, 67, 0.3), 0px 1px 3px 1px rgba(60, 64, 67, 0.15);\n",
              "      fill: #174EA6;\n",
              "    }\n",
              "\n",
              "    [theme=dark] .colab-df-convert {\n",
              "      background-color: #3B4455;\n",
              "      fill: #D2E3FC;\n",
              "    }\n",
              "\n",
              "    [theme=dark] .colab-df-convert:hover {\n",
              "      background-color: #434B5C;\n",
              "      box-shadow: 0px 1px 3px 1px rgba(0, 0, 0, 0.15);\n",
              "      filter: drop-shadow(0px 1px 2px rgba(0, 0, 0, 0.3));\n",
              "      fill: #FFFFFF;\n",
              "    }\n",
              "  </style>\n",
              "\n",
              "      <script>\n",
              "        const buttonEl =\n",
              "          document.querySelector('#df-7aab9350-3ccf-40c8-ba69-56f476d9bfaf button.colab-df-convert');\n",
              "        buttonEl.style.display =\n",
              "          google.colab.kernel.accessAllowed ? 'block' : 'none';\n",
              "\n",
              "        async function convertToInteractive(key) {\n",
              "          const element = document.querySelector('#df-7aab9350-3ccf-40c8-ba69-56f476d9bfaf');\n",
              "          const dataTable =\n",
              "            await google.colab.kernel.invokeFunction('convertToInteractive',\n",
              "                                                     [key], {});\n",
              "          if (!dataTable) return;\n",
              "\n",
              "          const docLinkHtml = 'Like what you see? Visit the ' +\n",
              "            '<a target=\"_blank\" href=https://colab.research.google.com/notebooks/data_table.ipynb>data table notebook</a>'\n",
              "            + ' to learn more about interactive tables.';\n",
              "          element.innerHTML = '';\n",
              "          dataTable['output_type'] = 'display_data';\n",
              "          await google.colab.output.renderOutput(dataTable, element);\n",
              "          const docLink = document.createElement('div');\n",
              "          docLink.innerHTML = docLinkHtml;\n",
              "          element.appendChild(docLink);\n",
              "        }\n",
              "      </script>\n",
              "    </div>\n",
              "  </div>\n",
              "  "
            ]
          },
          "metadata": {},
          "execution_count": 608
        }
      ]
    },
    {
      "cell_type": "code",
      "source": [
        "print('Explained variance:', pca.explained_variance_)\n",
        "print('Explained variance ratio:', pca.explained_variance_ratio_)"
      ],
      "metadata": {
        "colab": {
          "base_uri": "https://localhost:8080/"
        },
        "id": "8wb9FQDGxEWB",
        "outputId": "218affba-ba76-4e7f-cd95-9a6752e0fe1d"
      },
      "id": "8wb9FQDGxEWB",
      "execution_count": null,
      "outputs": [
        {
          "output_type": "stream",
          "name": "stdout",
          "text": [
            "Explained variance: [2.25252138 1.10642876 0.75436413 0.5493588  0.34884766]\n",
            "Explained variance ratio: [0.44946863 0.22077705 0.15052599 0.10961918 0.06960914]\n"
          ]
        }
      ]
    },
    {
      "cell_type": "code",
      "source": [
        "fig, ax = plt.subplots(figsize=(15,10))\n",
        "plt.bar(['PC1', 'PC2', 'PC3', 'PC4','Pc5'], pca.explained_variance_ratio_ * 100)"
      ],
      "metadata": {
        "colab": {
          "base_uri": "https://localhost:8080/",
          "height": 609
        },
        "id": "QTwVrL2YxYEi",
        "outputId": "0c192c57-aa5d-4498-d69f-87559cc93476"
      },
      "id": "QTwVrL2YxYEi",
      "execution_count": null,
      "outputs": [
        {
          "output_type": "execute_result",
          "data": {
            "text/plain": [
              "<BarContainer object of 5 artists>"
            ]
          },
          "metadata": {},
          "execution_count": 610
        },
        {
          "output_type": "display_data",
          "data": {
            "text/plain": [
              "<Figure size 1080x720 with 1 Axes>"
            ],
            "image/png": "[encoded data removed]"
          },
          "metadata": {
            "needs_background": "light"
          }
        }
      ]
    },
    {
      "cell_type": "markdown",
      "source": [
        "Cukup menggunakan PC1,PC2, dan PC3 karena sudah mendeskripsikan 81% informasi dari data original"
      ],
      "metadata": {
        "id": "fRc4_ZiI7byp"
      },
      "id": "fRc4_ZiI7byp"
    },
    {
      "cell_type": "markdown",
      "source": [
        "# Reduksi Feature"
      ],
      "metadata": {
        "id": "vlw95UedyCbQ"
      },
      "id": "vlw95UedyCbQ"
    },
    {
      "cell_type": "code",
      "source": [
        "pca = PCA(n_components=3)\n",
        "pca.fit(X_std)\n",
        "pcs = pca.transform(X_std)\n",
        "\n",
        "X_std_pca = pd.DataFrame(data = pcs, columns = ['pc1', 'pc2','pc3'])\n",
        "X_std_pca['MEDV'] = y\n",
        "X_std_pca.head()"
      ],
      "metadata": {
        "colab": {
          "base_uri": "https://localhost:8080/",
          "height": 206
        },
        "id": "LZQtH2Sk-JQp",
        "outputId": "a18d10eb-5f1a-4924-af25-9129b2962f4e"
      },
      "id": "LZQtH2Sk-JQp",
      "execution_count": null,
      "outputs": [
        {
          "output_type": "execute_result",
          "data": {
            "text/plain": [
              "        pc1       pc2       pc3  MEDV\n",
              "0 -1.824015 -0.326055  1.118474  24.0\n",
              "1 -0.951140 -0.325566 -0.128301  21.6\n",
              "2 -2.055335  0.908823  0.037788  34.7\n",
              "3 -2.006324  0.876261 -0.707314  33.4\n",
              "4 -1.917035  0.912328 -0.657468  36.2"
            ],
            "text/html": [
              "\n",
              "  <div id=\"df-4f378988-522b-4955-a6ad-8d5530509502\">\n",
              "    <div class=\"colab-df-container\">\n",
              "      <div>\n",
              "<style scoped>\n",
              "    .dataframe tbody tr th:only-of-type {\n",
              "        vertical-align: middle;\n",
              "    }\n",
              "\n",
              "    .dataframe tbody tr th {\n",
              "        vertical-align: top;\n",
              "    }\n",
              "\n",
              "    .dataframe thead th {\n",
              "        text-align: right;\n",
              "    }\n",
              "</style>\n",
              "<table border=\"1\" class=\"dataframe\">\n",
              "  <thead>\n",
              "    <tr style=\"text-align: right;\">\n",
              "      <th></th>\n",
              "      <th>pc1</th>\n",
              "      <th>pc2</th>\n",
              "      <th>pc3</th>\n",
              "      <th>MEDV</th>\n",
              "    </tr>\n",
              "  </thead>\n",
              "  <tbody>\n",
              "    <tr>\n",
              "      <th>0</th>\n",
              "      <td>-1.824015</td>\n",
              "      <td>-0.326055</td>\n",
              "      <td>1.118474</td>\n",
              "      <td>24.0</td>\n",
              "    </tr>\n",
              "    <tr>\n",
              "      <th>1</th>\n",
              "      <td>-0.951140</td>\n",
              "      <td>-0.325566</td>\n",
              "      <td>-0.128301</td>\n",
              "      <td>21.6</td>\n",
              "    </tr>\n",
              "    <tr>\n",
              "      <th>2</th>\n",
              "      <td>-2.055335</td>\n",
              "      <td>0.908823</td>\n",
              "      <td>0.037788</td>\n",
              "      <td>34.7</td>\n",
              "    </tr>\n",
              "    <tr>\n",
              "      <th>3</th>\n",
              "      <td>-2.006324</td>\n",
              "      <td>0.876261</td>\n",
              "      <td>-0.707314</td>\n",
              "      <td>33.4</td>\n",
              "    </tr>\n",
              "    <tr>\n",
              "      <th>4</th>\n",
              "      <td>-1.917035</td>\n",
              "      <td>0.912328</td>\n",
              "      <td>-0.657468</td>\n",
              "      <td>36.2</td>\n",
              "    </tr>\n",
              "  </tbody>\n",
              "</table>\n",
              "</div>\n",
              "      <button class=\"colab-df-convert\" onclick=\"convertToInteractive('df-4f378988-522b-4955-a6ad-8d5530509502')\"\n",
              "              title=\"Convert this dataframe to an interactive table.\"\n",
              "              style=\"display:none;\">\n",
              "        \n",
              "  <svg xmlns=\"http://www.w3.org/2000/svg\" height=\"24px\"viewBox=\"0 0 24 24\"\n",
              "       width=\"24px\">\n",
              "    <path d=\"M0 0h24v24H0V0z\" fill=\"none\"/>\n",
              "    <path d=\"M18.56 5.44l.94 2.06.94-2.06 2.06-.94-2.06-.94-.94-2.06-.94 2.06-2.06.94zm-11 1L8.5 8.5l.94-2.06 2.06-.94-2.06-.94L8.5 2.5l-.94 2.06-2.06.94zm10 10l.94 2.06.94-2.06 2.06-.94-2.06-.94-.94-2.06-.94 2.06-2.06.94z\"/><path d=\"M17.41 7.96l-1.37-1.37c-.4-.4-.92-.59-1.43-.59-.52 0-1.04.2-1.43.59L10.3 9.45l-7.72 7.72c-.78.78-.78 2.05 0 2.83L4 21.41c.39.39.9.59 1.41.59.51 0 1.02-.2 1.41-.59l7.78-7.78 2.81-2.81c.8-.78.8-2.07 0-2.86zM5.41 20L4 18.59l7.72-7.72 1.47 1.35L5.41 20z\"/>\n",
              "  </svg>\n",
              "      </button>\n",
              "      \n",
              "  <style>\n",
              "    .colab-df-container {\n",
              "      display:flex;\n",
              "      flex-wrap:wrap;\n",
              "      gap: 12px;\n",
              "    }\n",
              "\n",
              "    .colab-df-convert {\n",
              "      background-color: #E8F0FE;\n",
              "      border: none;\n",
              "      border-radius: 50%;\n",
              "      cursor: pointer;\n",
              "      display: none;\n",
              "      fill: #1967D2;\n",
              "      height: 32px;\n",
              "      padding: 0 0 0 0;\n",
              "      width: 32px;\n",
              "    }\n",
              "\n",
              "    .colab-df-convert:hover {\n",
              "      background-color: #E2EBFA;\n",
              "      box-shadow: 0px 1px 2px rgba(60, 64, 67, 0.3), 0px 1px 3px 1px rgba(60, 64, 67, 0.15);\n",
              "      fill: #174EA6;\n",
              "    }\n",
              "\n",
              "    [theme=dark] .colab-df-convert {\n",
              "      background-color: #3B4455;\n",
              "      fill: #D2E3FC;\n",
              "    }\n",
              "\n",
              "    [theme=dark] .colab-df-convert:hover {\n",
              "      background-color: #434B5C;\n",
              "      box-shadow: 0px 1px 3px 1px rgba(0, 0, 0, 0.15);\n",
              "      filter: drop-shadow(0px 1px 2px rgba(0, 0, 0, 0.3));\n",
              "      fill: #FFFFFF;\n",
              "    }\n",
              "  </style>\n",
              "\n",
              "      <script>\n",
              "        const buttonEl =\n",
              "          document.querySelector('#df-4f378988-522b-4955-a6ad-8d5530509502 button.colab-df-convert');\n",
              "        buttonEl.style.display =\n",
              "          google.colab.kernel.accessAllowed ? 'block' : 'none';\n",
              "\n",
              "        async function convertToInteractive(key) {\n",
              "          const element = document.querySelector('#df-4f378988-522b-4955-a6ad-8d5530509502');\n",
              "          const dataTable =\n",
              "            await google.colab.kernel.invokeFunction('convertToInteractive',\n",
              "                                                     [key], {});\n",
              "          if (!dataTable) return;\n",
              "\n",
              "          const docLinkHtml = 'Like what you see? Visit the ' +\n",
              "            '<a target=\"_blank\" href=https://colab.research.google.com/notebooks/data_table.ipynb>data table notebook</a>'\n",
              "            + ' to learn more about interactive tables.';\n",
              "          element.innerHTML = '';\n",
              "          dataTable['output_type'] = 'display_data';\n",
              "          await google.colab.output.renderOutput(dataTable, element);\n",
              "          const docLink = document.createElement('div');\n",
              "          docLink.innerHTML = docLinkHtml;\n",
              "          element.appendChild(docLink);\n",
              "        }\n",
              "      </script>\n",
              "    </div>\n",
              "  </div>\n",
              "  "
            ]
          },
          "metadata": {},
          "execution_count": 611
        }
      ]
    },
    {
      "cell_type": "markdown",
      "id": "a8aa89fc",
      "metadata": {
        "id": "a8aa89fc"
      },
      "source": [
        "## Regression Model (20 point)"
      ]
    },
    {
      "cell_type": "markdown",
      "id": "65906ffd",
      "metadata": {
        "id": "65906ffd"
      },
      "source": [
        "bebas menggunakan model apapun"
      ]
    },
    {
      "cell_type": "markdown",
      "metadata": {
        "id": "1d69a385"
      },
      "source": [
        "### Sampling Dataset"
      ],
      "id": "1d69a385"
    },
    {
      "cell_type": "code",
      "execution_count": null,
      "metadata": {
        "id": "9592471d"
      },
      "outputs": [],
      "source": [
        "X_pca = X_std_pca.drop('MEDV', axis=1)\n",
        "y_pca = X_std_pca['MEDV']\n",
        "\n",
        "X_train_pca, X_test_pca,Y_train_pca,Y_test_pca = train_test_split(X_pca,y_pca,\n",
        "                                                test_size = 0.4,\n",
        "                                                random_state = 42)"
      ],
      "id": "9592471d"
    },
    {
      "cell_type": "code",
      "execution_count": null,
      "metadata": {
        "id": "c8230345"
      },
      "outputs": [],
      "source": [
        "X_train, X_test,Y_train,Y_test = train_test_split(X,Y,\n",
        "                                                test_size = 0.4,\n",
        "                                                random_state = 42)"
      ],
      "id": "c8230345"
    },
    {
      "cell_type": "markdown",
      "metadata": {
        "id": "eb039a67"
      },
      "source": [
        "### Modelling with PCA"
      ],
      "id": "eb039a67"
    },
    {
      "cell_type": "code",
      "execution_count": null,
      "metadata": {
        "id": "c05bc9fa",
        "colab": {
          "base_uri": "https://localhost:8080/"
        },
        "outputId": "84cae455-7e60-4479-b05c-b97dd0803c27"
      },
      "outputs": [
        {
          "output_type": "execute_result",
          "data": {
            "text/plain": [
              "RandomForestRegressor()"
            ]
          },
          "metadata": {},
          "execution_count": 633
        }
      ],
      "source": [
        "model_pca = RandomForestRegressor(n_estimators=100)\n",
        "model_pca.fit(X_train_pca, Y_train_pca)"
      ],
      "id": "c05bc9fa"
    },
    {
      "cell_type": "markdown",
      "metadata": {
        "id": "1fc218d4"
      },
      "source": [
        "### Modelling without PCA"
      ],
      "id": "1fc218d4"
    },
    {
      "cell_type": "code",
      "execution_count": null,
      "metadata": {
        "id": "cb4c22df",
        "colab": {
          "base_uri": "https://localhost:8080/"
        },
        "outputId": "010a6dff-c7ec-4195-bafd-96b03394f234"
      },
      "outputs": [
        {
          "output_type": "execute_result",
          "data": {
            "text/plain": [
              "RandomForestRegressor()"
            ]
          },
          "metadata": {},
          "execution_count": 615
        }
      ],
      "source": [
        "model = RandomForestRegressor(n_estimators=100)\n",
        "model.fit(X_train, Y_train)"
      ],
      "id": "cb4c22df"
    },
    {
      "cell_type": "markdown",
      "metadata": {
        "id": "aa95a7a5"
      },
      "source": [
        "### Predicting"
      ],
      "id": "aa95a7a5"
    },
    {
      "cell_type": "code",
      "execution_count": null,
      "metadata": {
        "id": "9aaa5888"
      },
      "outputs": [],
      "source": [
        "y_pred_pca = model_pca.predict(X_test_pca)"
      ],
      "id": "9aaa5888"
    },
    {
      "cell_type": "code",
      "execution_count": null,
      "metadata": {
        "id": "00aa2805"
      },
      "outputs": [],
      "source": [
        "y_pred = model.predict(X_test)"
      ],
      "id": "00aa2805"
    },
    {
      "cell_type": "markdown",
      "id": "9930db20",
      "metadata": {
        "id": "9930db20"
      },
      "source": [
        "## Evaluasi (20)"
      ]
    },
    {
      "cell_type": "markdown",
      "id": "25f12f6d",
      "metadata": {
        "id": "25f12f6d"
      },
      "source": [
        "Bandingkan hasil menggunakan PCA dan tidak menggunakan PCA"
      ]
    },
    {
      "cell_type": "markdown",
      "source": [
        "Without PCA"
      ],
      "metadata": {
        "id": "4grHNgK6NC42"
      },
      "id": "4grHNgK6NC42"
    },
    {
      "cell_type": "code",
      "source": [
        "model.score(X_test,Y_test)"
      ],
      "metadata": {
        "colab": {
          "base_uri": "https://localhost:8080/"
        },
        "id": "CkHREMXcNKQr",
        "outputId": "abbbb1d2-6878-410e-b02e-9041ddf7337e"
      },
      "id": "CkHREMXcNKQr",
      "execution_count": null,
      "outputs": [
        {
          "output_type": "execute_result",
          "data": {
            "text/plain": [
              "0.8040274221106765"
            ]
          },
          "metadata": {},
          "execution_count": 645
        }
      ]
    },
    {
      "cell_type": "markdown",
      "source": [
        "WIth PCA"
      ],
      "metadata": {
        "id": "9WNsr9RyNFde"
      },
      "id": "9WNsr9RyNFde"
    },
    {
      "cell_type": "code",
      "execution_count": null,
      "id": "7377e4b7",
      "metadata": {
        "id": "7377e4b7",
        "colab": {
          "base_uri": "https://localhost:8080/"
        },
        "outputId": "aa45fd89-84e4-4e89-bea7-3295c7f38f2d"
      },
      "outputs": [
        {
          "output_type": "execute_result",
          "data": {
            "text/plain": [
              "0.8977580245724921"
            ]
          },
          "metadata": {},
          "execution_count": 646
        }
      ],
      "source": [
        "model_pca.score(X_train_pca, Y_train_pca)"
      ]
    },
    {
      "cell_type": "markdown",
      "source": [
        "Menggunakan PCA lebih baik "
      ],
      "metadata": {
        "id": "6132SvqIvTjO"
      },
      "id": "6132SvqIvTjO"
    }
  ],
  "metadata": {
    "kernelspec": {
      "display_name": "Python 3",
      "name": "python3"
    },
    "language_info": {
      "name": "python"
    },
    "toc": {
      "base_numbering": 1,
      "nav_menu": {},
      "number_sections": true,
      "sideBar": true,
      "skip_h1_title": false,
      "title_cell": "Table of Contents",
      "title_sidebar": "Contents",
      "toc_cell": false,
      "toc_position": {},
      "toc_section_display": true,
      "toc_window_display": false
    },
    "varInspector": {
      "cols": {
        "lenName": 16,
        "lenType": 16,
        "lenVar": 40
      },
      "kernels_config": {
        "python": {
          "delete_cmd_postfix": "",
          "delete_cmd_prefix": "del ",
          "library": "var_list.py",
          "varRefreshCmd": "print(var_dic_list())"
        },
        "r": {
          "delete_cmd_postfix": ") ",
          "delete_cmd_prefix": "rm(",
          "library": "var_list.r",
          "varRefreshCmd": "cat(var_dic_list()) "
        }
      },
      "types_to_exclude": [
        "module",
        "function",
        "builtin_function_or_method",
        "instance",
        "_Feature"
      ],
      "window_display": false
    },
    "colab": {
      "provenance": [],
      "collapsed_sections": []
    },
    "gpuClass": "standard"
  },
  "nbformat": 4,
  "nbformat_minor": 5
}